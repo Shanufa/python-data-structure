{
 "cells": [
  {
   "cell_type": "markdown",
   "id": "8c597d48",
   "metadata": {
    "id": "jGxqF4aIjNSq"
   },
   "source": [
    "<a id='1'></a><center> <h3 style=\"background-color:orange; color:white\" ><br>Python Data Structures<br></h3>"
   ]
  },
  {
   "cell_type": "markdown",
   "id": "290523e0",
   "metadata": {},
   "source": [
    "# `Types of Data Structures:`\n",
    "* `List` | `Tuple`\n",
    "* `Set` | `Dictionary`"
   ]
  },
  {
   "cell_type": "markdown",
   "id": "504b57a0",
   "metadata": {},
   "source": [
    "|Data Structures type|Mutable|Comments|Indexing|Ordered|Duplicacy|\n",
    "|----|----|----|----|----|----|\n",
    "tuple ()|immutable|immutable version of list| possible|yes |allowed |\n",
    "list []|mutable|-|possible |yes | allowed |\n",
    "set {}|mutable| -|not |no |not |\n",
    "dict {key:value}|mutable|-|possible |no |not  |"
   ]
  },
  {
   "cell_type": "markdown",
   "id": "4f3d837f",
   "metadata": {},
   "source": [
    "💫 `immutable` => `can't be changed` <br>\n",
    "💫 `mutable` => `can be changed`"
   ]
  },
  {
   "cell_type": "code",
   "execution_count": null,
   "id": "46665d1a",
   "metadata": {},
   "outputs": [],
   "source": []
  },
  {
   "cell_type": "markdown",
   "id": "1c8c9542",
   "metadata": {
    "id": "Tyavi31ZjNSw"
   },
   "source": [
    "## Lists\n",
    "\n"
   ]
  },
  {
   "cell_type": "markdown",
   "id": "4ec191fa",
   "metadata": {
    "id": "tkDQdRdUjNSy"
   },
   "source": [
    "### Create an empty list with the name ‘a’, print the value of a and type(a).\n"
   ]
  },
  {
   "cell_type": "code",
   "execution_count": 2,
   "id": "e0552284",
   "metadata": {
    "id": "a6i4yNGvjNSz"
   },
   "outputs": [],
   "source": [
    "# create empty list, name it 'a'\n",
    "a=[]"
   ]
  },
  {
   "cell_type": "code",
   "execution_count": 6,
   "id": "2dcfa46e",
   "metadata": {
    "id": "M8FMNQEgjNS0",
    "outputId": "e614518d-cd99-4602-c082-7fcc1f9a0e3a"
   },
   "outputs": [
    {
     "name": "stdout",
     "output_type": "stream",
     "text": [
      "[]\n"
     ]
    }
   ],
   "source": [
    "# print the value of a\n",
    "print (a)\n"
   ]
  },
  {
   "cell_type": "code",
   "execution_count": 5,
   "id": "35d34a1f",
   "metadata": {
    "id": "Jfc9sg1vjNS1",
    "outputId": "462464e7-25c1-4a23-80cb-f8c6cf93fb18"
   },
   "outputs": [
    {
     "name": "stdout",
     "output_type": "stream",
     "text": [
      "<class 'list'>\n"
     ]
    }
   ],
   "source": [
    "# print the type of a\n",
    "print (type(a))"
   ]
  },
  {
   "cell_type": "markdown",
   "id": "6c63756b",
   "metadata": {
    "id": "UNpN9_w4jNS1"
   },
   "source": [
    "### Create a list , languages = ['R','Python', 'SAS', 'Scala', 42], "
   ]
  },
  {
   "cell_type": "code",
   "execution_count": 45,
   "id": "df41ed65",
   "metadata": {
    "id": "x-TG-vc5jNS2"
   },
   "outputs": [
    {
     "name": "stdout",
     "output_type": "stream",
     "text": [
      "['R', 'Python', 'SAS', 'Scala', 42]\n"
     ]
    }
   ],
   "source": [
    "languages=['R','Python','SAS','Scala',42]\n",
    "print(languages)"
   ]
  },
  {
   "cell_type": "markdown",
   "id": "afcd77a5",
   "metadata": {
    "id": "JDSIK8TbjNS3"
   },
   "source": [
    "Print the number of elements in the list"
   ]
  },
  {
   "cell_type": "code",
   "execution_count": 46,
   "id": "f753bf80",
   "metadata": {
    "id": "C4lBMaM8jNS3",
    "outputId": "8f553c2e-3d4f-4a3c-ddb3-49b32c4d6fce"
   },
   "outputs": [
    {
     "name": "stdout",
     "output_type": "stream",
     "text": [
      "5\n"
     ]
    }
   ],
   "source": [
    "n=len(languages)\n",
    "print(n)"
   ]
  },
  {
   "cell_type": "markdown",
   "id": "d6261cc9",
   "metadata": {
    "id": "EyzO_pcnjNS3"
   },
   "source": [
    "Using for loop iterate and print all the elements in the list"
   ]
  },
  {
   "cell_type": "code",
   "execution_count": 47,
   "id": "2a15048a",
   "metadata": {
    "id": "TyM54ydsjNS4",
    "outputId": "a83aecf6-2a59-4d56-ee29-d0c3f0711bc4"
   },
   "outputs": [
    {
     "name": "stdout",
     "output_type": "stream",
     "text": [
      "R\n",
      "Python\n",
      "SAS\n",
      "Scala\n",
      "42\n"
     ]
    }
   ],
   "source": [
    "for lang in languages:\n",
    "    print(lang)\n",
    "\n"
   ]
  },
  {
   "cell_type": "markdown",
   "id": "f504103a",
   "metadata": {
    "id": "eC1fqz9LjNS4"
   },
   "source": [
    "Select the second item, 'Python' and store it in a new variable named 'temp'"
   ]
  },
  {
   "cell_type": "code",
   "execution_count": 48,
   "id": "0aa1f2d3",
   "metadata": {
    "id": "KY0KhRlOjNS4"
   },
   "outputs": [
    {
     "name": "stdout",
     "output_type": "stream",
     "text": [
      "Python\n"
     ]
    }
   ],
   "source": [
    "print (languages[1])\n",
    "temp=languages[1]\n"
   ]
  },
  {
   "cell_type": "markdown",
   "id": "b802d65a",
   "metadata": {
    "id": "breORMa_jNS4"
   },
   "source": [
    "Print the value of temp and type(temp)"
   ]
  },
  {
   "cell_type": "code",
   "execution_count": 49,
   "id": "07969387",
   "metadata": {
    "id": "MbvX2aIgjNS5",
    "outputId": "f8ec4c46-26d8-4822-c3c7-b18a6cc7f149"
   },
   "outputs": [
    {
     "name": "stdout",
     "output_type": "stream",
     "text": [
      "Python\n"
     ]
    }
   ],
   "source": [
    "print(temp)\n",
    "\n"
   ]
  },
  {
   "cell_type": "markdown",
   "id": "bf5c2a7a",
   "metadata": {
    "id": "I4MrKlAUjNS5"
   },
   "source": [
    "Append the element 'Java' in the list"
   ]
  },
  {
   "cell_type": "code",
   "execution_count": 30,
   "id": "f681e020",
   "metadata": {
    "id": "rOtqZY6PjNS6"
   },
   "outputs": [
    {
     "name": "stdout",
     "output_type": "stream",
     "text": [
      "['R', 'Python', 'SAS', 'Scala', '42', 'Java']\n"
     ]
    }
   ],
   "source": [
    "languages.append('Java')\n",
    "print(languages)"
   ]
  },
  {
   "cell_type": "markdown",
   "id": "27ccfb62",
   "metadata": {
    "id": "ksEn8qvFjNS6"
   },
   "source": [
    "Remove the element 42 from the list and print the list"
   ]
  },
  {
   "cell_type": "code",
   "execution_count": 50,
   "id": "56322a0b",
   "metadata": {
    "id": "Lxuzfc1bjNS6",
    "outputId": "71e5abaf-0020-44d5-af96-9b6f832ce001"
   },
   "outputs": [
    {
     "name": "stdout",
     "output_type": "stream",
     "text": [
      "['R', 'Python', 'SAS', 'Scala']\n"
     ]
    }
   ],
   "source": [
    "\n",
    "languages.remove(42)\n",
    "print(languages)"
   ]
  },
  {
   "cell_type": "markdown",
   "id": "ff468de0",
   "metadata": {
    "id": "19MjI0w6jNS6"
   },
   "source": [
    "### Create a list, colors = [‘Red’, ‘Blue’, ‘White’]"
   ]
  },
  {
   "cell_type": "code",
   "execution_count": 93,
   "id": "b9b5b16c",
   "metadata": {
    "id": "Z1lMzdbWjNS7"
   },
   "outputs": [
    {
     "name": "stdout",
     "output_type": "stream",
     "text": [
      "['Red', 'Blue', 'White', 'Black']\n"
     ]
    }
   ],
   "source": [
    "colors=['Red','Blue','White']\n",
    "print(colours)"
   ]
  },
  {
   "cell_type": "markdown",
   "id": "665d8930",
   "metadata": {
    "id": "VAqLj5R3jNS7"
   },
   "source": [
    "Append the element 'Black' to colors"
   ]
  },
  {
   "cell_type": "code",
   "execution_count": 94,
   "id": "4a53b565",
   "metadata": {
    "id": "gvb5iC7ljNS7"
   },
   "outputs": [
    {
     "name": "stdout",
     "output_type": "stream",
     "text": [
      "['Red', 'Blue', 'White', 'Black']\n"
     ]
    }
   ],
   "source": [
    "\n",
    "colors.append('Black')\n",
    "print(colours)\n"
   ]
  },
  {
   "cell_type": "markdown",
   "id": "b104c714",
   "metadata": {
    "id": "MFWIzVcvjNS7"
   },
   "source": [
    "Append the color 'Orange' to second position (index=1) and print the list"
   ]
  },
  {
   "cell_type": "code",
   "execution_count": 95,
   "id": "161820c8",
   "metadata": {
    "id": "Fb6YZDSNjNS8"
   },
   "outputs": [],
   "source": [
    "\n",
    "colors.insert(1,'Orange')\n"
   ]
  },
  {
   "cell_type": "markdown",
   "id": "ca02738a",
   "metadata": {
    "id": "8DWB76AOjNS8"
   },
   "source": [
    "Print the list\n"
   ]
  },
  {
   "cell_type": "code",
   "execution_count": 96,
   "id": "b24bc61a",
   "metadata": {
    "id": "0ldkGCozjNS8",
    "outputId": "0a5cb8e4-f656-4122-b50a-e7716ef09086"
   },
   "outputs": [
    {
     "name": "stdout",
     "output_type": "stream",
     "text": [
      "['Red', 'Orange', 'Blue', 'White', 'Black']\n"
     ]
    }
   ],
   "source": [
    "print(colors)"
   ]
  },
  {
   "cell_type": "markdown",
   "id": "e52a12eb",
   "metadata": {
    "id": "WfFfxvLKjNS8"
   },
   "source": [
    "Create another list, colors2 = [‘Grey’, ‘Sky Blue’]"
   ]
  },
  {
   "cell_type": "code",
   "execution_count": 87,
   "id": "842e1056",
   "metadata": {
    "id": "onZEiwdUjNS8"
   },
   "outputs": [
    {
     "name": "stdout",
     "output_type": "stream",
     "text": [
      "['Grey', 'Sky', 'Blue']\n"
     ]
    }
   ],
   "source": [
    "colors2=['Grey','Sky','Blue']\n",
    "print(colors2)"
   ]
  },
  {
   "cell_type": "markdown",
   "id": "9792d1f8",
   "metadata": {
    "id": "MrNQk6uKjNS8"
   },
   "source": [
    "Add the elements of colors2 to colors using extend function in the list"
   ]
  },
  {
   "cell_type": "code",
   "execution_count": 88,
   "id": "1f0008aa",
   "metadata": {
    "id": "Hr1Eu88OjNS9"
   },
   "outputs": [
    {
     "name": "stdout",
     "output_type": "stream",
     "text": [
      "['Red', 'Orange', 'Blue', 'White', 'Black', ['Grey', 'Sky', 'Blue']]\n"
     ]
    }
   ],
   "source": [
    "colors.append(colors2)\n",
    "print(colors)"
   ]
  },
  {
   "cell_type": "markdown",
   "id": "7f4fecdd",
   "metadata": {
    "id": "u0KDeU20jNS9"
   },
   "source": [
    "Print len of colors and its elements"
   ]
  },
  {
   "cell_type": "code",
   "execution_count": 90,
   "id": "7b997586",
   "metadata": {
    "id": "bnBmsCg2jNS9",
    "outputId": "f126519a-bafd-4438-fe21-af7586b5740d"
   },
   "outputs": [
    {
     "name": "stdout",
     "output_type": "stream",
     "text": [
      "6\n"
     ]
    }
   ],
   "source": [
    "L=len(colors)\n",
    "print(L)\n"
   ]
  },
  {
   "cell_type": "markdown",
   "id": "9ddd3240",
   "metadata": {
    "id": "vJ7YqokSjNS9"
   },
   "source": [
    "Sort the list and print it."
   ]
  },
  {
   "cell_type": "code",
   "execution_count": 99,
   "id": "ca012dfe",
   "metadata": {
    "id": "X14C-1PtjNS9",
    "outputId": "02524dae-3592-47e2-98b0-77501aa15b64"
   },
   "outputs": [
    {
     "name": "stdout",
     "output_type": "stream",
     "text": [
      "['Black', 'Blue', 'Orange', 'Red', 'White']\n"
     ]
    }
   ],
   "source": [
    "colors.sort()\n",
    "print(colors)\n",
    "\n"
   ]
  },
  {
   "cell_type": "markdown",
   "id": "37848a88",
   "metadata": {
    "id": "MdN5B9F9jNS-"
   },
   "source": [
    "### Create a string, sent = ‘Coronavirus Caused Lockdowns Around The World.”"
   ]
  },
  {
   "cell_type": "code",
   "execution_count": 7,
   "id": "65b5f4ec",
   "metadata": {
    "id": "j4JUR085jNS-"
   },
   "outputs": [
    {
     "name": "stdout",
     "output_type": "stream",
     "text": [
      "Coronavirus Caused Lockdowns Around The World.\n"
     ]
    }
   ],
   "source": [
    "sent = \"Coronavirus Caused Lockdowns Around The World.\"\n",
    "print(sent)"
   ]
  },
  {
   "cell_type": "markdown",
   "id": "371c4895",
   "metadata": {
    "id": "rcn18drOjNS-"
   },
   "source": [
    "Use split function to convert the string into a list of words and save it in variable words and print the same"
   ]
  },
  {
   "cell_type": "code",
   "execution_count": 8,
   "id": "71c820bc",
   "metadata": {
    "id": "fjiKSboajNS-",
    "outputId": "b6bfb22e-147a-4d90-9428-d321d9824589"
   },
   "outputs": [
    {
     "name": "stdout",
     "output_type": "stream",
     "text": [
      "['Coronavirus', 'Caused', 'Lockdowns', 'Around', 'The', 'World.']\n"
     ]
    }
   ],
   "source": [
    "words=sent.split()\n",
    "print(words)\n"
   ]
  },
  {
   "cell_type": "markdown",
   "id": "a9846f42",
   "metadata": {
    "id": "rowxhN26jNS_"
   },
   "source": [
    "Convert each word in the list to lower case and store it in variable words_lower. \n",
    "Print words_lower"
   ]
  },
  {
   "cell_type": "code",
   "execution_count": 2,
   "id": "98dfe43a",
   "metadata": {
    "id": "LuzAECOVjNS_",
    "outputId": "d2c5bbbe-af46-4659-fdcb-d5de59d24099"
   },
   "outputs": [
    {
     "name": "stdout",
     "output_type": "stream",
     "text": [
      "['coronavirus', 'caused', 'lockdowns', 'around', 'the', 'world.']\n"
     ]
    }
   ],
   "source": [
    "words_lower = [word.lower() for word in words]\n",
    "print(words_lower)\n",
    "\n"
   ]
  },
  {
   "cell_type": "markdown",
   "id": "1a4f5fc6",
   "metadata": {
    "id": "zznwP-l9jNS_"
   },
   "source": [
    "Check whether ‘country’ is in the list"
   ]
  },
  {
   "cell_type": "code",
   "execution_count": 3,
   "id": "2dc99d8a",
   "metadata": {
    "id": "y-U1felnjNS_",
    "outputId": "1e5fb9dd-4add-4438-97da-60db75ce0fce"
   },
   "outputs": [
    {
     "name": "stdout",
     "output_type": "stream",
     "text": [
      "False\n"
     ]
    }
   ],
   "source": [
    "countrypresent = 'country' in words_lower\n",
    "print(countrypresent)"
   ]
  },
  {
   "cell_type": "markdown",
   "id": "45adf711",
   "metadata": {
    "id": "AZMvSVKWjNS_"
   },
   "source": [
    "Remove the element ‘the’ from the list and print the list."
   ]
  },
  {
   "cell_type": "code",
   "execution_count": 10,
   "id": "15e4b1b0",
   "metadata": {
    "id": "bmDbpYd7jNS_",
    "outputId": "e96ddeed-af03-4d0c-a7dd-6c7a716e349a"
   },
   "outputs": [
    {
     "name": "stdout",
     "output_type": "stream",
     "text": [
      "['coronavirus', 'caused', 'lockdowns', 'around', 'world.']\n"
     ]
    }
   ],
   "source": [
    "words_lower.remove('the')\n",
    "print(words_lower)\n",
    "\n"
   ]
  },
  {
   "cell_type": "markdown",
   "id": "cf842dcc",
   "metadata": {
    "id": "int3gJc0jNS_"
   },
   "source": [
    "Select the first 4 words from the list words_lower using slicing and store them in a new variable x4"
   ]
  },
  {
   "cell_type": "code",
   "execution_count": 11,
   "id": "5e044b5c",
   "metadata": {
    "id": "fXOJmYI1jNTA"
   },
   "outputs": [],
   "source": [
    "x4=words_lower[:4]"
   ]
  },
  {
   "cell_type": "code",
   "execution_count": 12,
   "id": "89fd99e9",
   "metadata": {
    "id": "2Kb_1V9HjNTA",
    "outputId": "49b4815f-910d-45d2-da69-6be48927e099"
   },
   "outputs": [
    {
     "name": "stdout",
     "output_type": "stream",
     "text": [
      "['coronavirus', 'caused', 'lockdowns', 'around']\n"
     ]
    }
   ],
   "source": [
    "# print x4\n",
    "\n",
    "print(x4)"
   ]
  },
  {
   "cell_type": "markdown",
   "id": "8206a085",
   "metadata": {
    "id": "3HgP3nUmjNTA"
   },
   "source": [
    "Convert the list of elements to single string using join function and print it"
   ]
  },
  {
   "cell_type": "code",
   "execution_count": 13,
   "id": "31d2b47f",
   "metadata": {
    "id": "hiXO7ekhjNTA",
    "outputId": "db0f6673-174f-4bee-f6c5-c7e7d4f4612b"
   },
   "outputs": [
    {
     "name": "stdout",
     "output_type": "stream",
     "text": [
      "coronaviruscausedlockdownsaroundworld.\n"
     ]
    }
   ],
   "source": [
    "string=''.join(words_lower)\n",
    "print(string)\n"
   ]
  },
  {
   "cell_type": "markdown",
   "id": "f18b9359",
   "metadata": {
    "id": "tW6We_kvjNTA"
   },
   "source": [
    "## Sets"
   ]
  },
  {
   "cell_type": "markdown",
   "id": "9aa6e3a9",
   "metadata": {
    "id": "02qkte5xjNTA"
   },
   "source": [
    "### Create stud_grades = ['A','A','B','C','C','F']"
   ]
  },
  {
   "cell_type": "code",
   "execution_count": 42,
   "id": "ce75b0b7",
   "metadata": {
    "id": "M5P_qZaTjNTB"
   },
   "outputs": [
    {
     "name": "stdout",
     "output_type": "stream",
     "text": [
      "['A', 'A', 'B', 'C', 'C', 'F']\n"
     ]
    }
   ],
   "source": [
    "stud_grades=['A','A','B','C','C','F']\n",
    "print (stud_grades)"
   ]
  },
  {
   "cell_type": "markdown",
   "id": "1303282b",
   "metadata": {
    "id": "XazCnMcBjNTB"
   },
   "source": [
    "Print the len of stud_grades"
   ]
  },
  {
   "cell_type": "code",
   "execution_count": 43,
   "id": "1def14b9",
   "metadata": {
    "id": "gMMJN-V5jNTB",
    "outputId": "ae1dee90-d009-4230-b7ae-8ea1ee32cbfa"
   },
   "outputs": [
    {
     "name": "stdout",
     "output_type": "stream",
     "text": [
      "6\n"
     ]
    }
   ],
   "source": [
    "print (len(stud_grades))\n",
    "\n"
   ]
  },
  {
   "cell_type": "markdown",
   "id": "47d4c80d",
   "metadata": {
    "id": "ALm7hstGjNTB"
   },
   "source": [
    "Create a new variable, stud_grades_set = set(stud_grades)"
   ]
  },
  {
   "cell_type": "code",
   "execution_count": 3,
   "id": "9b62f770",
   "metadata": {},
   "outputs": [],
   "source": [
    "stud_grades = ['A', 'A', 'B', 'C', 'C', 'F']\n",
    "\n",
    "# Create a new variable that holds the set of unique grades\n",
    "stud_grades_set = set(stud_grades)\n",
    "\n"
   ]
  },
  {
   "cell_type": "markdown",
   "id": "c6e53ce9",
   "metadata": {
    "id": "JJESkQiJjNTB"
   },
   "source": [
    "Print stud_grades_set. "
   ]
  },
  {
   "cell_type": "code",
   "execution_count": 4,
   "id": "c11142e8",
   "metadata": {
    "id": "Q-daiiLPjNTB",
    "outputId": "9b37d1b8-7765-4564-f706-a4f9482b7368"
   },
   "outputs": [
    {
     "name": "stdout",
     "output_type": "stream",
     "text": [
      "{'C', 'B', 'A', 'F'}\n"
     ]
    }
   ],
   "source": [
    "# Print the set of unique grades\n",
    "print(stud_grades_set)\n",
    "\n"
   ]
  },
  {
   "cell_type": "markdown",
   "id": "ecb15cb4",
   "metadata": {
    "id": "hNeCPwPOjNTC"
   },
   "source": [
    "print the type of stud_grades and stud_grades_set and print their corresponding elements. Try to understand the difference between them."
   ]
  },
  {
   "cell_type": "code",
   "execution_count": 5,
   "id": "4343dda4",
   "metadata": {
    "id": "g7cntC0ojNTC",
    "outputId": "881a71e0-fd7e-4a3e-c340-95b6e736255a"
   },
   "outputs": [
    {
     "name": "stdout",
     "output_type": "stream",
     "text": [
      "<class 'list'>\n",
      "<class 'set'>\n"
     ]
    }
   ],
   "source": [
    "print (type(stud_grades))\n",
    "print (type(stud_grades_set))\n",
    "\n"
   ]
  },
  {
   "cell_type": "markdown",
   "id": "c5b0e86f",
   "metadata": {
    "id": "WjzzJX8yjNTC"
   },
   "source": [
    "Add a new element ‘G’ to stud_grades_set"
   ]
  },
  {
   "cell_type": "code",
   "execution_count": 7,
   "id": "8a3b5b8f",
   "metadata": {
    "id": "y80DVAlRjNTC"
   },
   "outputs": [],
   "source": [
    "stud_grades_set.add('G')"
   ]
  },
  {
   "cell_type": "markdown",
   "id": "b624d8a2",
   "metadata": {
    "id": "4TO9zhSJjNTC"
   },
   "source": [
    "Add element 'F' to stud_grades_set. and print it."
   ]
  },
  {
   "cell_type": "code",
   "execution_count": 8,
   "id": "c7cdd588",
   "metadata": {
    "id": "Bh4tc1zCjNTC",
    "outputId": "67cdce79-7542-4536-8824-7c3f08855f76"
   },
   "outputs": [
    {
     "name": "stdout",
     "output_type": "stream",
     "text": [
      "{'G', 'C', 'A', 'F', 'B'}\n"
     ]
    }
   ],
   "source": [
    "stud_grades_set.add('F')\n",
    "print(stud_grades_set)\n",
    "\n"
   ]
  },
  {
   "cell_type": "markdown",
   "id": "947f8a10",
   "metadata": {
    "id": "FSgM3DD5jNTD"
   },
   "source": [
    "!!Did you notice? set doesn't add an element if it's already present in it, unlike lists."
   ]
  },
  {
   "cell_type": "markdown",
   "id": "aaf00fcf",
   "metadata": {
    "id": "tqz1GBM5jNTD"
   },
   "source": [
    "Remove ‘F’ from stud_grades_set"
   ]
  },
  {
   "cell_type": "code",
   "execution_count": 9,
   "id": "1e92c029",
   "metadata": {
    "id": "zOLBDdk0jNTD"
   },
   "outputs": [],
   "source": [
    "stud_grades_set.remove('F')\n",
    "\n"
   ]
  },
  {
   "cell_type": "markdown",
   "id": "e5f55494",
   "metadata": {
    "id": "wxMXywoRjNTD"
   },
   "source": [
    "Print the elements and the length of stud_grades_set"
   ]
  },
  {
   "cell_type": "code",
   "execution_count": 10,
   "id": "190f915f",
   "metadata": {
    "id": "lS582g27jNTD",
    "outputId": "03e846de-16c3-4f74-caf5-b11bb2519b91"
   },
   "outputs": [
    {
     "name": "stdout",
     "output_type": "stream",
     "text": [
      "4\n"
     ]
    }
   ],
   "source": [
    "print(len(stud_grades_set))\n",
    "\n"
   ]
  },
  {
   "cell_type": "markdown",
   "id": "e7ce6f63",
   "metadata": {
    "id": "FctCYkNBjNTD"
   },
   "source": [
    "### Create colors = [‘red’,’blue’,’orange’], and fruits = [‘orange’,’grapes’,’apples’] "
   ]
  },
  {
   "cell_type": "code",
   "execution_count": 12,
   "id": "fe07712f",
   "metadata": {},
   "outputs": [],
   "source": [
    "colors= ['red','blue','orange']\n",
    "fruits = ['orange','grapes','apples']"
   ]
  },
  {
   "cell_type": "markdown",
   "id": "bc1dcee4",
   "metadata": {
    "id": "kfIRtvphjNTE"
   },
   "source": [
    "Print color and fruits"
   ]
  },
  {
   "cell_type": "code",
   "execution_count": 14,
   "id": "76d6dc2f",
   "metadata": {
    "id": "q-gavK0-jNTE",
    "outputId": "6e0c3843-3efe-4e88-8a19-616e2cf4bdb3"
   },
   "outputs": [
    {
     "name": "stdout",
     "output_type": "stream",
     "text": [
      "['red', 'blue', 'orange']\n",
      "['orange', 'grapes', 'apples']\n"
     ]
    }
   ],
   "source": [
    "print (colors)\n",
    "print (fruits)\n"
   ]
  },
  {
   "cell_type": "markdown",
   "id": "74e9f5eb",
   "metadata": {
    "id": "uMOTrWwSjNTE"
   },
   "source": [
    "Create colors_set, and fruits_set. (using set() ) and print them"
   ]
  },
  {
   "cell_type": "code",
   "execution_count": 16,
   "id": "4ef01c9f",
   "metadata": {},
   "outputs": [],
   "source": [
    "color_set=set(colors)\n",
    "fruits_set=set(fruits)"
   ]
  },
  {
   "cell_type": "markdown",
   "id": "c5b9a3a6",
   "metadata": {
    "id": "tW9fj0R1jNTE"
   },
   "source": [
    "Find the union of both the sets."
   ]
  },
  {
   "cell_type": "code",
   "execution_count": 21,
   "id": "9b5997ec",
   "metadata": {
    "id": "oyskI_CTjNTE",
    "outputId": "4e89c025-10ef-405c-cbd4-f8c1ae2f92b4"
   },
   "outputs": [
    {
     "name": "stdout",
     "output_type": "stream",
     "text": [
      "{'blue', 'grapes', 'orange', 'red', 'apples'}\n"
     ]
    }
   ],
   "source": [
    "union_set = color_set | fruits_set\n",
    "print( union_set)"
   ]
  },
  {
   "cell_type": "markdown",
   "id": "fc216114",
   "metadata": {
    "id": "3yXYgYBLjNTF"
   },
   "source": [
    "Find the intersection of both the sets "
   ]
  },
  {
   "cell_type": "code",
   "execution_count": 20,
   "id": "a6b0703b",
   "metadata": {
    "id": "3AzYqu5sjNTF",
    "outputId": "01ae145a-f15b-4a20-b9bc-9d8a25cf1679"
   },
   "outputs": [
    {
     "name": "stdout",
     "output_type": "stream",
     "text": [
      "{'orange'}\n"
     ]
    }
   ],
   "source": [
    "intersection = color_set & fruits_set\n",
    "print( intersection)\n",
    "\n"
   ]
  },
  {
   "cell_type": "markdown",
   "id": "4460b1d9",
   "metadata": {
    "id": "PuhlSjH_jNTF"
   },
   "source": [
    "Find the elements which are Fruits but not colors (using set.difference() )"
   ]
  },
  {
   "cell_type": "code",
   "execution_count": 23,
   "id": "d0c138bb",
   "metadata": {
    "id": "gBaxHXrfjNTF",
    "outputId": "2178193f-aae5-4e59-acc1-8bce28e28143"
   },
   "outputs": [
    {
     "name": "stdout",
     "output_type": "stream",
     "text": [
      "{'grapes', 'apples'}\n"
     ]
    }
   ],
   "source": [
    "fruits_not_colors = fruits_set.difference(color_set)\n",
    "print(fruits_not_colors)\n",
    "\n"
   ]
  },
  {
   "cell_type": "code",
   "execution_count": null,
   "id": "510bd095",
   "metadata": {},
   "outputs": [],
   "source": []
  },
  {
   "cell_type": "markdown",
   "id": "d019d2b5",
   "metadata": {
    "id": "hLZeBta3jNTF"
   },
   "source": [
    "## TUPLES"
   ]
  },
  {
   "cell_type": "markdown",
   "id": "296a4569",
   "metadata": {
    "id": "Nerhdg66jNTF"
   },
   "source": [
    "### Create temp = [17, ’Virat’, 50.0]"
   ]
  },
  {
   "cell_type": "code",
   "execution_count": 47,
   "id": "45868102",
   "metadata": {},
   "outputs": [],
   "source": [
    "temp=(17,'virat',50.0)"
   ]
  },
  {
   "cell_type": "markdown",
   "id": "7b1f7bd0",
   "metadata": {
    "id": "C0IuMJFijNTG"
   },
   "source": [
    "Iterate through temp and print all the items in temp"
   ]
  },
  {
   "cell_type": "code",
   "execution_count": 48,
   "id": "2bbd17aa",
   "metadata": {
    "id": "CSKY_cgHjNTG",
    "outputId": "ec834f68-6713-4941-9fc3-dc0e59965222"
   },
   "outputs": [
    {
     "name": "stdout",
     "output_type": "stream",
     "text": [
      "17\n",
      "virat\n",
      "50.0\n"
     ]
    }
   ],
   "source": [
    "for x in temp:\n",
    "    print(x)\n"
   ]
  },
  {
   "cell_type": "markdown",
   "id": "9980133e",
   "metadata": {
    "id": "gI0kBGQ1jNTG"
   },
   "source": [
    "replace first element with 11 in temp"
   ]
  },
  {
   "cell_type": "code",
   "execution_count": 49,
   "id": "47c26166",
   "metadata": {
    "id": "p6JCtyOBjNTG"
   },
   "outputs": [
    {
     "name": "stdout",
     "output_type": "stream",
     "text": [
      "(11, 'virat', 50.0)\n"
     ]
    }
   ],
   "source": [
    "new_temp = (11,) + temp[1:]\n",
    "\n",
    "print(new_temp) "
   ]
  },
  {
   "cell_type": "markdown",
   "id": "e3df1958",
   "metadata": {
    "id": "JV3b34AdjNTG"
   },
   "source": [
    "Set temp1 = tuple(temp)"
   ]
  },
  {
   "cell_type": "code",
   "execution_count": 51,
   "id": "9ccb0352",
   "metadata": {},
   "outputs": [
    {
     "name": "stdout",
     "output_type": "stream",
     "text": [
      "(17, 'virat', 50.0)\n"
     ]
    }
   ],
   "source": [
    "temp1 = tuple(temp)\n",
    "\n",
    "\n",
    "print( temp1)"
   ]
  },
  {
   "cell_type": "markdown",
   "id": "8ac9c676",
   "metadata": {
    "id": "Z9LJWgBkjNTG"
   },
   "source": [
    "Iterate through temp1 and print all the items in temp1. "
   ]
  },
  {
   "cell_type": "code",
   "execution_count": 52,
   "id": "603c497e",
   "metadata": {
    "id": "t0v-FZsNjNTH",
    "outputId": "7f98ae38-8bae-4687-f46b-31fb12ac5c6c"
   },
   "outputs": [
    {
     "name": "stdout",
     "output_type": "stream",
     "text": [
      "17\n",
      "virat\n",
      "50.0\n"
     ]
    }
   ],
   "source": [
    "for y in temp1:\n",
    "    print(y)\n",
    "\n"
   ]
  },
  {
   "cell_type": "markdown",
   "id": "1958a06a",
   "metadata": {
    "id": "A4FXMQDfjNTH"
   },
   "source": [
    "replace first element with 17 in temp1"
   ]
  },
  {
   "cell_type": "markdown",
   "id": "bf319cf1",
   "metadata": {
    "id": "IuGIObFZjNTH"
   },
   "source": [
    "<b>Oops!! You got an error. Hey Don't worry! Its because Once a tuple is created, you cannot change its values unlike list.</b>"
   ]
  },
  {
   "cell_type": "markdown",
   "id": "6a640c62",
   "metadata": {
    "id": "ExB_cM1ZjNTH"
   },
   "source": [
    "### Create city = (\"Bangalore\", 28.9949521, 72)"
   ]
  },
  {
   "cell_type": "code",
   "execution_count": 54,
   "id": "2ee0bc34",
   "metadata": {
    "id": "fWz52DjjjNTH"
   },
   "outputs": [],
   "source": [
    "city=(\"bangalore\",28.9949521,72)"
   ]
  },
  {
   "cell_type": "markdown",
   "id": "fb68bcf0",
   "metadata": {
    "id": "v4ipyqXsjNTH"
   },
   "source": [
    "Print first element of city"
   ]
  },
  {
   "cell_type": "code",
   "execution_count": 57,
   "id": "38ace9bd",
   "metadata": {
    "id": "KJHMuFk1jNTI",
    "outputId": "f3915b36-1f5b-4ac1-e2bb-a53f9ce142f8"
   },
   "outputs": [
    {
     "name": "stdout",
     "output_type": "stream",
     "text": [
      "bangalore\n"
     ]
    }
   ],
   "source": [
    "print (city[0])"
   ]
  },
  {
   "cell_type": "markdown",
   "id": "c4fcded1",
   "metadata": {
    "id": "N5FoHg4ujNTI"
   },
   "source": [
    "Create city2 = (‘Chennai’, 30.01, 74)"
   ]
  },
  {
   "cell_type": "code",
   "execution_count": 58,
   "id": "0544833a",
   "metadata": {
    "id": "fYuGqbDEjNTI"
   },
   "outputs": [],
   "source": [
    "city2=('Chennai', 30.01, 74)"
   ]
  },
  {
   "cell_type": "markdown",
   "id": "4b6088ad",
   "metadata": {
    "id": "0gz-HACUjNTI"
   },
   "source": [
    "Create cities which consist of city and city2"
   ]
  },
  {
   "cell_type": "code",
   "execution_count": 59,
   "id": "8134d258",
   "metadata": {
    "id": "5dTN1LQPjNTI"
   },
   "outputs": [
    {
     "name": "stdout",
     "output_type": "stream",
     "text": [
      "('bangalore', 28.9949521, 72, 'Chennai', 30.01, 74)\n"
     ]
    }
   ],
   "source": [
    "cities = city + city2\n"
   ]
  },
  {
   "cell_type": "markdown",
   "id": "efbe395e",
   "metadata": {
    "id": "He-teRi2jNTI"
   },
   "source": [
    "Print cities"
   ]
  },
  {
   "cell_type": "code",
   "execution_count": 60,
   "id": "8b171dd2",
   "metadata": {
    "id": "ISySNfxGjNTI",
    "outputId": "bee231a2-a635-496f-b5b7-57795a0fd7ab"
   },
   "outputs": [
    {
     "name": "stdout",
     "output_type": "stream",
     "text": [
      "('bangalore', 28.9949521, 72, 'Chennai', 30.01, 74)\n"
     ]
    }
   ],
   "source": [
    "print(cities)"
   ]
  },
  {
   "cell_type": "markdown",
   "id": "ada9a9aa",
   "metadata": {
    "id": "brFx6-rtjNTJ"
   },
   "source": [
    "Print type of first element in cities"
   ]
  },
  {
   "cell_type": "code",
   "execution_count": 62,
   "id": "f517a654",
   "metadata": {
    "id": "CmIifGybjNTJ",
    "outputId": "085cb498-1027-4ce6-8803-904d39050a97"
   },
   "outputs": [
    {
     "name": "stdout",
     "output_type": "stream",
     "text": [
      "<class 'str'>\n"
     ]
    }
   ],
   "source": [
    "print (type(cities[0]))"
   ]
  },
  {
   "cell_type": "markdown",
   "id": "b535c6cc",
   "metadata": {
    "id": "jtk8J_yHjNTJ"
   },
   "source": [
    "print the type of cities\n"
   ]
  },
  {
   "cell_type": "code",
   "execution_count": 63,
   "id": "8dc67378",
   "metadata": {
    "id": "y9rdG29XjNTJ",
    "outputId": "2d1e34cb-5b76-44b4-e806-9287ee31fa87"
   },
   "outputs": [
    {
     "name": "stdout",
     "output_type": "stream",
     "text": [
      "<class 'tuple'>\n"
     ]
    }
   ],
   "source": [
    "print (type(cities))"
   ]
  },
  {
   "cell_type": "markdown",
   "id": "947d4633",
   "metadata": {
    "id": "uXHSadWqjNTJ"
   },
   "source": [
    "Hey that implies you made a nested tuples!!"
   ]
  },
  {
   "cell_type": "markdown",
   "id": "b0dddc83",
   "metadata": {
    "id": "zViY-S_djNTJ"
   },
   "source": [
    "## DICTIONARY"
   ]
  },
  {
   "cell_type": "markdown",
   "id": "2b43a122",
   "metadata": {
    "id": "4NjUxRaZjNTK"
   },
   "source": [
    "### Create a dictionary d = {\"actor\":\"amir\",\"animal\":\"cat\",\"earth\":2,\"list\":[23,32,12]}"
   ]
  },
  {
   "cell_type": "code",
   "execution_count": 64,
   "id": "f2e1095e",
   "metadata": {
    "id": "UCtEFPI4jNTK"
   },
   "outputs": [],
   "source": [
    "d = {\"actor\":\"amir\",\"animal\":\"cat\",\"earth\":2,\"list\":[23,32,12]}"
   ]
  },
  {
   "cell_type": "markdown",
   "id": "de89b5f0",
   "metadata": {
    "id": "OamenDk8jNTK"
   },
   "source": [
    "Print the value of d[0]"
   ]
  },
  {
   "cell_type": "code",
   "execution_count": 66,
   "id": "a3337eb5",
   "metadata": {
    "id": "gion3awcjNTK",
    "outputId": "59a88b33-f80a-4448-8c92-262c242ca689"
   },
   "outputs": [
    {
     "ename": "KeyError",
     "evalue": "0",
     "output_type": "error",
     "traceback": [
      "\u001b[1;31m---------------------------------------------------------------------------\u001b[0m",
      "\u001b[1;31mKeyError\u001b[0m                                  Traceback (most recent call last)",
      "\u001b[1;32m~\\AppData\\Local\\Temp\\ipykernel_11576\\2407508526.py\u001b[0m in \u001b[0;36m<module>\u001b[1;34m\u001b[0m\n\u001b[1;32m----> 1\u001b[1;33m \u001b[0mprint\u001b[0m \u001b[1;33m(\u001b[0m\u001b[0md\u001b[0m\u001b[1;33m[\u001b[0m\u001b[1;36m0\u001b[0m\u001b[1;33m]\u001b[0m\u001b[1;33m)\u001b[0m\u001b[1;33m\u001b[0m\u001b[1;33m\u001b[0m\u001b[0m\n\u001b[0m",
      "\u001b[1;31mKeyError\u001b[0m: 0"
     ]
    }
   ],
   "source": [
    "print (d[0])"
   ]
  },
  {
   "cell_type": "markdown",
   "id": "9e147f8f",
   "metadata": {
    "id": "XYtrrUigjNTK"
   },
   "source": [
    "<b>Oops!! again an error. again a fun fact. Dictionary return the value for key if key is in the dictionary, else throws KeyError\n",
    "and we don't have key 0 here :( </b>"
   ]
  },
  {
   "cell_type": "markdown",
   "id": "d9a57f17",
   "metadata": {
    "id": "62VXYnw1jNTK"
   },
   "source": [
    "Store the value of d[‘actor’] to a new variable actor."
   ]
  },
  {
   "cell_type": "code",
   "execution_count": 68,
   "id": "2f48c165",
   "metadata": {
    "id": "kkBfNz81jNTK"
   },
   "outputs": [
    {
     "name": "stdout",
     "output_type": "stream",
     "text": [
      "amir\n"
     ]
    }
   ],
   "source": [
    "actor = d['actor']\n",
    "\n",
    "print(actor)\n"
   ]
  },
  {
   "cell_type": "markdown",
   "id": "502e6e0d",
   "metadata": {
    "id": "uFfuF569jNTL"
   },
   "source": [
    "Print the type of actor"
   ]
  },
  {
   "cell_type": "code",
   "execution_count": 69,
   "id": "94fed9fe",
   "metadata": {
    "id": "bKbFXBxyjNTL",
    "outputId": "ec200684-a8ac-403e-9aea-ca06a015a12e"
   },
   "outputs": [
    {
     "name": "stdout",
     "output_type": "stream",
     "text": [
      "<class 'str'>\n"
     ]
    }
   ],
   "source": [
    "print(type(actor))"
   ]
  },
  {
   "cell_type": "markdown",
   "id": "86f68ddd",
   "metadata": {
    "id": "y549qN04jNTL"
   },
   "source": [
    "Store the value of d[‘list’] in new variable List. "
   ]
  },
  {
   "cell_type": "code",
   "execution_count": 70,
   "id": "c7f5ec78",
   "metadata": {
    "id": "I7GyOK8DjNTL"
   },
   "outputs": [
    {
     "name": "stdout",
     "output_type": "stream",
     "text": [
      "[23, 32, 12]\n"
     ]
    }
   ],
   "source": [
    "lists=d['list']\n",
    "print(lists)"
   ]
  },
  {
   "cell_type": "markdown",
   "id": "cfed19c7",
   "metadata": {
    "id": "Ul1YMiuNjNTL"
   },
   "source": [
    "Print the type of List. "
   ]
  },
  {
   "cell_type": "code",
   "execution_count": 72,
   "id": "44f08e2e",
   "metadata": {
    "id": "V0VdG9y_jNTL",
    "outputId": "ca19430d-bd1d-456a-cb91-c156f73fe9b1"
   },
   "outputs": [
    {
     "name": "stdout",
     "output_type": "stream",
     "text": [
      "<class 'list'>\n"
     ]
    }
   ],
   "source": [
    "print(type(lists))"
   ]
  },
  {
   "cell_type": "markdown",
   "id": "f5abdb05",
   "metadata": {
    "id": "A0CEMABhjNTL"
   },
   "source": [
    "Create d1 = { ‘singer’ : ‘Kr$na’ , ‘album’: ‘Still here’, ‘genre’ : ‘hip-hop’}"
   ]
  },
  {
   "cell_type": "code",
   "execution_count": 73,
   "id": "db748db2",
   "metadata": {
    "id": "FCGCw5FEjNTL"
   },
   "outputs": [],
   "source": [
    "d1 = { 'singer' : 'Kr$na', 'album': 'Still here', 'genre': 'hip-hop'}"
   ]
  },
  {
   "cell_type": "markdown",
   "id": "a51a1e70",
   "metadata": {
    "id": "ybGIILrLjNTM"
   },
   "source": [
    "Merge d1 into d."
   ]
  },
  {
   "cell_type": "code",
   "execution_count": 74,
   "id": "2551d715",
   "metadata": {
    "id": "UmDbbQJPjNTM"
   },
   "outputs": [],
   "source": [
    "d = d | d1"
   ]
  },
  {
   "cell_type": "markdown",
   "id": "85e9a6d9",
   "metadata": {
    "id": "jhAPX45ZjNTM"
   },
   "source": [
    "print d"
   ]
  },
  {
   "cell_type": "code",
   "execution_count": 75,
   "id": "bc163617",
   "metadata": {
    "id": "785S26ryjNTM",
    "outputId": "82043717-4c5e-4622-8e11-f13d74dd5cc4"
   },
   "outputs": [
    {
     "name": "stdout",
     "output_type": "stream",
     "text": [
      "{'actor': 'amir', 'animal': 'cat', 'earth': 2, 'list': [23, 32, 12], 'singer': 'Kr$na', 'album': 'Still here', 'genre': 'hip-hop'}\n"
     ]
    }
   ],
   "source": [
    "print(d)"
   ]
  },
  {
   "cell_type": "markdown",
   "id": "66da68d7",
   "metadata": {
    "id": "9E852mY2jNTM"
   },
   "source": [
    "Print all the keys in d"
   ]
  },
  {
   "cell_type": "code",
   "execution_count": 78,
   "id": "c8b0e21e",
   "metadata": {
    "id": "7K843OrLjNTM",
    "outputId": "4336a57d-eabe-47a7-d910-82c5c8614754"
   },
   "outputs": [
    {
     "name": "stdout",
     "output_type": "stream",
     "text": [
      "dict_keys(['actor', 'animal', 'earth', 'list', 'singer', 'album', 'genre'])\n"
     ]
    }
   ],
   "source": [
    "print (d.keys())"
   ]
  },
  {
   "cell_type": "markdown",
   "id": "a9c8b156",
   "metadata": {
    "id": "fiuzxbGkjNTN"
   },
   "source": [
    "Print all the values in d"
   ]
  },
  {
   "cell_type": "code",
   "execution_count": 79,
   "id": "67a3e236",
   "metadata": {
    "id": "Pyhh6r0pjNTN",
    "outputId": "8d13b380-1e1f-418c-84e6-ac0638a056e2"
   },
   "outputs": [
    {
     "name": "stdout",
     "output_type": "stream",
     "text": [
      "dict_values(['amir', 'cat', 2, [23, 32, 12], 'Kr$na', 'Still here', 'hip-hop'])\n"
     ]
    }
   ],
   "source": [
    "print (d.values())"
   ]
  },
  {
   "cell_type": "markdown",
   "id": "58fff17f",
   "metadata": {
    "id": "XSoe8GWmjNTN"
   },
   "source": [
    "Iterate over d, and print each key, value pair as this - (actor ----> amir)"
   ]
  },
  {
   "cell_type": "code",
   "execution_count": 80,
   "id": "f34b8165",
   "metadata": {
    "id": "O0iW9kiqjNTO",
    "outputId": "d9ab5c07-3de4-4939-dd9e-d6ff75c9aa07"
   },
   "outputs": [
    {
     "name": "stdout",
     "output_type": "stream",
     "text": [
      "(actor amir)\n",
      "(animal cat)\n",
      "(earth 2)\n",
      "(list [23, 32, 12])\n",
      "(singer Kr$na)\n",
      "(album Still here)\n",
      "(genre hip-hop)\n"
     ]
    }
   ],
   "source": [
    "for key, value in d.items():\n",
    "    print(f\"({key} {value})\")"
   ]
  },
  {
   "cell_type": "markdown",
   "id": "d17616c4",
   "metadata": {
    "id": "Hhzm-EIsjNTO"
   },
   "source": [
    "count the number of occurences of charachters in string named \"sent\" using dictionary and print the same.\n"
   ]
  },
  {
   "cell_type": "code",
   "execution_count": 82,
   "id": "d4e3dd94",
   "metadata": {
    "id": "IvRlvUAljNTP",
    "outputId": "40f08e65-b884-4b00-aaf4-2cacd1083752"
   },
   "outputs": [
    {
     "name": "stdout",
     "output_type": "stream",
     "text": [
      "Coronavirus Caused Lockdowns Around The World.\n",
      "C --> 2\n",
      "o --> 6\n",
      "r --> 4\n",
      "n --> 3\n",
      "a --> 2\n",
      "v --> 1\n",
      "i --> 1\n",
      "u --> 3\n",
      "s --> 3\n",
      "e --> 2\n",
      "d --> 4\n",
      "L --> 1\n",
      "c --> 1\n",
      "k --> 1\n",
      "w --> 1\n",
      "A --> 1\n",
      "T --> 1\n",
      "h --> 1\n",
      "W --> 1\n",
      "l --> 1\n",
      ". --> 1\n"
     ]
    }
   ],
   "source": [
    "sent = \"Coronavirus Caused Lockdowns Around The World.\"\n",
    "print(sent)\n",
    "char_count = {}\n",
    "\n",
    "# Iterate over each character in the string\n",
    "for char in sent:\n",
    "    # Ignore spaces (or you can include them if desired)\n",
    "    if char != ' ':\n",
    "        if char in char_count:\n",
    "            char_count[char] += 1  # Increment count if character already exists\n",
    "        else:\n",
    "            char_count[char] = 1   # Initialize count to 1 if character is new\n",
    "\n",
    "# Print the character counts\n",
    "for char, count in char_count.items():\n",
    "    print(f\"{char} --> {count}\")\n",
    "\n"
   ]
  },
  {
   "cell_type": "code",
   "execution_count": null,
   "id": "aa872f8b",
   "metadata": {
    "id": "ebNwyxUujNTP"
   },
   "outputs": [],
   "source": []
  }
 ],
 "metadata": {
  "colab": {
   "collapsed_sections": [],
   "provenance": []
  },
  "kernelspec": {
   "display_name": "Python 3 (ipykernel)",
   "language": "python",
   "name": "python3"
  },
  "language_info": {
   "codemirror_mode": {
    "name": "ipython",
    "version": 3
   },
   "file_extension": ".py",
   "mimetype": "text/x-python",
   "name": "python",
   "nbconvert_exporter": "python",
   "pygments_lexer": "ipython3",
   "version": "3.9.13"
  }
 },
 "nbformat": 4,
 "nbformat_minor": 5
}
